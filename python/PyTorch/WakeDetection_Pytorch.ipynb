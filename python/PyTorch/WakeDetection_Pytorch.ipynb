{
 "cells": [
  {
   "cell_type": "code",
   "execution_count": 1,
   "id": "ed6c20b5",
   "metadata": {},
   "outputs": [
    {
     "name": "stdout",
     "output_type": "stream",
     "text": [
      "Shape of X [N, C, H, W]: torch.Size([16, 3, 224, 224])\n",
      "Shape of y: torch.Size([16]) torch.int64\n",
      "Shape of X [N, C, H, W]: torch.Size([7, 3, 224, 224])\n",
      "Shape of y: torch.Size([7]) torch.int64\n"
     ]
    }
   ],
   "source": [
    "import os\n",
    "from torchvision import datasets, transforms\n",
    "from torch.utils.data import Dataset,DataLoader,random_split\n",
    "batch_size = 16\n",
    "\n",
    "\n",
    "#root directory\n",
    "datadir = os.path.expanduser(\"/home/asus/Dropbox/extras/storage/graham/ht/data_cps32_512_hpx_2d_NSIDE4_figs_thr70\")\n",
    "\n",
    "# #transformations, options\n",
    "# train_transforms = transforms.Compose([transforms.Resize((224,224)),\n",
    "#                                        transforms.ToTensor(),                                \n",
    "#                                        torchvision.transforms.Normalize(\n",
    "#                                            mean=[0.485, 0.456, 0.406],\n",
    "#                                            std=[0.229, 0.224, 0.225],\n",
    "#     ),\n",
    "#                                        ])\n",
    "# test_transforms = transforms.Compose([transforms.Resize((224,224)),\n",
    "#                                       transforms.ToTensor(),\n",
    "#                                       torchvision.transforms.Normalize(\n",
    "#                                           mean=[0.485, 0.456, 0.406],\n",
    "#                                           std=[0.229, 0.224, 0.225],\n",
    "#     ),\n",
    "#                                       ])\n",
    "\n",
    "#transformations, simpler\n",
    "transforms = transforms.Compose([transforms.Resize((224,224)),\n",
    "                                        transforms.ToTensor()])\n",
    "\n",
    "\n",
    "#datasets\n",
    "dataset = datasets.ImageFolder(datadir, transform=transforms)\n",
    "# dataset = datasets.ImageFolder(datadir)\n",
    "\n",
    "# Define the proportion or number of items in each set\n",
    "train_size = int(0.8 * len(dataset))\n",
    "test_size = len(dataset) - train_size\n",
    "\n",
    "# Randomly split the dataset into train and test datasets\n",
    "training_data, test_data = random_split(dataset, [train_size, test_size])\n",
    "\n",
    "\n",
    "# Create data loaders.\n",
    "train_dataloader = DataLoader(training_data, batch_size=batch_size, shuffle=True)\n",
    "test_dataloader = DataLoader(test_data, batch_size=batch_size, shuffle=False)\n",
    "\n",
    "for X, y in train_dataloader:\n",
    "    print(f\"Shape of X [N, C, H, W]: {X.shape}\")\n",
    "    print(f\"Shape of y: {y.shape} {y.dtype}\")\n",
    "    break\n",
    "    \n",
    "for X, y in test_dataloader:\n",
    "    print(f\"Shape of X [N, C, H, W]: {X.shape}\")\n",
    "    print(f\"Shape of y: {y.shape} {y.dtype}\")\n",
    "    break    "
   ]
  },
  {
   "cell_type": "code",
   "execution_count": 2,
   "id": "d5ad9e0d",
   "metadata": {},
   "outputs": [
    {
     "name": "stdout",
     "output_type": "stream",
     "text": [
      "Using cuda device\n",
      "NeuralNetwork(\n",
      "  (flatten): Flatten(start_dim=1, end_dim=-1)\n",
      "  (linear_relu_stack): Sequential(\n",
      "    (0): Linear(in_features=150528, out_features=32, bias=True)\n",
      "    (1): ReLU()\n",
      "    (2): Linear(in_features=32, out_features=2, bias=True)\n",
      "  )\n",
      ")\n"
     ]
    }
   ],
   "source": [
    "import torch\n",
    "from torch import nn\n",
    "\n",
    "# Get cpu or gpu device for training.\n",
    "device = \"cuda\" if torch.cuda.is_available() else \"cpu\"\n",
    "print(f\"Using {device} device\")\n",
    "\n",
    "# Define model\n",
    "class NeuralNetwork(nn.Module):\n",
    "    def __init__(self):\n",
    "        super(NeuralNetwork, self).__init__()\n",
    "        self.flatten = nn.Flatten()\n",
    "        self.linear_relu_stack = nn.Sequential(\n",
    "            nn.Linear(224*224*3, 32),\n",
    "            nn.ReLU(),\n",
    "#             nn.Linear(512, 512),\n",
    "#             nn.ReLU(),\n",
    "            nn.Linear(32, 2)\n",
    "        )\n",
    "\n",
    "    def forward(self, x):\n",
    "        x = self.flatten(x)\n",
    "        logits = self.linear_relu_stack(x)\n",
    "        return logits\n",
    "\n",
    "model = NeuralNetwork().to(device)\n",
    "print(model)"
   ]
  },
  {
   "cell_type": "code",
   "execution_count": 3,
   "id": "afc36731",
   "metadata": {},
   "outputs": [],
   "source": [
    "loss_fn = nn.CrossEntropyLoss()\n",
    "optimizer = torch.optim.SGD(model.parameters(), lr=1e-3)"
   ]
  },
  {
   "cell_type": "code",
   "execution_count": 4,
   "id": "7b9f3161",
   "metadata": {},
   "outputs": [],
   "source": [
    "def train(dataloader, model, loss_fn, optimizer):\n",
    "    size = len(dataloader.dataset)\n",
    "    model.train()\n",
    "    for batch, (X, y) in enumerate(dataloader):\n",
    "        X, y = X.to(device), y.to(device)\n",
    "\n",
    "        # Compute prediction error\n",
    "        pred = model(X)\n",
    "        loss = loss_fn(pred, y)\n",
    "\n",
    "        # Backpropagation\n",
    "        optimizer.zero_grad()\n",
    "        loss.backward()\n",
    "        optimizer.step()\n",
    "\n",
    "        if batch % 100 == 0:\n",
    "            loss, current = loss.item(), batch * len(X)\n",
    "            print(f\"loss: {loss:>7f}  [{current:>5d}/{size:>5d}]\")"
   ]
  },
  {
   "cell_type": "code",
   "execution_count": 5,
   "id": "f9939fb3",
   "metadata": {},
   "outputs": [],
   "source": [
    "def test(dataloader, model, loss_fn):\n",
    "    size = len(dataloader.dataset)\n",
    "    num_batches = len(dataloader)\n",
    "    model.eval()\n",
    "    test_loss, correct = 0, 0\n",
    "    with torch.no_grad():\n",
    "        for X, y in dataloader:\n",
    "            X, y = X.to(device), y.to(device)\n",
    "            pred = model(X)\n",
    "            test_loss += loss_fn(pred, y).item()\n",
    "            correct += (pred.argmax(1) == y).type(torch.float).sum().item()\n",
    "    test_loss /= num_batches\n",
    "    correct /= size\n",
    "    print(f\"Test Error: \\n Accuracy: {(100*correct):>0.1f}%, Avg loss: {test_loss:>8f} \\n\")"
   ]
  },
  {
   "cell_type": "code",
   "execution_count": 6,
   "id": "091d44d2",
   "metadata": {},
   "outputs": [
    {
     "name": "stdout",
     "output_type": "stream",
     "text": [
      "Epoch 1\n",
      "-------------------------------\n",
      "loss: 0.680039  [    0/   28]\n",
      "Test Error: \n",
      " Accuracy: 14.3%, Avg loss: 0.762230 \n",
      "\n",
      "Epoch 2\n",
      "-------------------------------\n",
      "loss: 0.695449  [    0/   28]\n",
      "Test Error: \n",
      " Accuracy: 14.3%, Avg loss: 0.940675 \n",
      "\n",
      "Epoch 3\n",
      "-------------------------------\n",
      "loss: 0.655017  [    0/   28]\n",
      "Test Error: \n",
      " Accuracy: 14.3%, Avg loss: 0.822632 \n",
      "\n",
      "Epoch 4\n",
      "-------------------------------\n",
      "loss: 0.635437  [    0/   28]\n",
      "Test Error: \n",
      " Accuracy: 14.3%, Avg loss: 0.757596 \n",
      "\n",
      "Epoch 5\n",
      "-------------------------------\n",
      "loss: 0.661841  [    0/   28]\n",
      "Test Error: \n",
      " Accuracy: 14.3%, Avg loss: 0.801661 \n",
      "\n",
      "Done!\n"
     ]
    }
   ],
   "source": [
    "epochs = 5\n",
    "for t in range(epochs):\n",
    "    print(f\"Epoch {t+1}\\n-------------------------------\")\n",
    "    train(train_dataloader, model, loss_fn, optimizer)\n",
    "    test(test_dataloader, model, loss_fn)\n",
    "print(\"Done!\")"
   ]
  },
  {
   "cell_type": "code",
   "execution_count": null,
   "id": "b8e554f2",
   "metadata": {},
   "outputs": [],
   "source": []
  }
 ],
 "metadata": {
  "kernelspec": {
   "display_name": "Python 3 (ipykernel)",
   "language": "python",
   "name": "python3"
  },
  "language_info": {
   "codemirror_mode": {
    "name": "ipython",
    "version": 3
   },
   "file_extension": ".py",
   "mimetype": "text/x-python",
   "name": "python",
   "nbconvert_exporter": "python",
   "pygments_lexer": "ipython3",
   "version": "3.9.13"
  }
 },
 "nbformat": 4,
 "nbformat_minor": 5
}
