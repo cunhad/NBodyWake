{
 "cells": [
  {
   "cell_type": "code",
   "execution_count": 1,
   "id": "ed6c20b5",
   "metadata": {},
   "outputs": [
    {
     "name": "stderr",
     "output_type": "stream",
     "text": [
      "/home/asus/anaconda3/envs/PyTorch/lib/python3.9/site-packages/torchvision/io/image.py:13: UserWarning: Failed to load image Python extension: '/home/asus/anaconda3/envs/PyTorch/lib/python3.9/site-packages/torchvision/image.so: undefined symbol: _ZNK3c107SymBool10guard_boolEPKcl'If you don't plan on using image functionality from `torchvision.io`, you can ignore this warning. Otherwise, there might be something wrong with your environment. Did you have `libjpeg` or `libpng` installed before building `torchvision` from source?\n",
      "  warn(\n"
     ]
    },
    {
     "name": "stdout",
     "output_type": "stream",
     "text": [
      "{'4Mpc_2048c_1024p_zi63_nowakem': 0, '4Mpc_2048c_1024p_zi63_wakeGmu4t10m8zi10m': 1}\n",
      "Shape of X [N, C, H, W]: torch.Size([8, 1, 512, 512])\n",
      "Shape of y: torch.Size([8]) torch.int64\n",
      "Shape of X [N, C, H, W]: torch.Size([7, 1, 512, 512])\n",
      "Shape of y: torch.Size([7]) torch.int64\n"
     ]
    }
   ],
   "source": [
    "import os\n",
    "from torchvision import datasets, transforms\n",
    "from torch.utils.data import Dataset,DataLoader,random_split\n",
    "batch_size = 8\n",
    "\n",
    "\n",
    "#root directory\n",
    "datadir = os.path.expanduser(\"/home/asus/Dropbox/extras/storage/graham/ht/data_cps32_512_hpx_2d_NSIDE4_figs_thr70\")\n",
    "\n",
    "# #transformations, options\n",
    "# train_transforms = transforms.Compose([transforms.Resize((224,224)),\n",
    "#                                        transforms.ToTensor(),                                \n",
    "#                                        torchvision.transforms.Normalize(\n",
    "#                                            mean=[0.485, 0.456, 0.406],\n",
    "#                                            std=[0.229, 0.224, 0.225],\n",
    "#     ),\n",
    "#                                        ])\n",
    "# test_transforms = transforms.Compose([transforms.Resize((224,224)),\n",
    "#                                       transforms.ToTensor(),\n",
    "#                                       torchvision.transforms.Normalize(\n",
    "#                                           mean=[0.485, 0.456, 0.406],\n",
    "#                                           std=[0.229, 0.224, 0.225],\n",
    "#     ),\n",
    "#                                       ])\n",
    "\n",
    "#transformations, simpler\n",
    "transforms = transforms.Compose([transforms.Resize((512,512)),\n",
    "                                 transforms.Grayscale(),\n",
    "                                        transforms.ToTensor()])\n",
    "\n",
    "\n",
    "#datasets\n",
    "dataset = datasets.ImageFolder(datadir, transform=transforms)\n",
    "# dataset = datasets.ImageFolder(datadir)\n",
    "print(dataset.class_to_idx)   # this is the label dictionary\n",
    "\n",
    "# Define the proportion or number of items in each set\n",
    "train_size = int(0.8 * len(dataset))\n",
    "test_size = len(dataset) - train_size\n",
    "\n",
    "# Randomly split the dataset into train and test datasets\n",
    "training_data, test_data = random_split(dataset, [train_size, test_size])\n",
    "\n",
    "\n",
    "# Create data loaders.\n",
    "train_dataloader = DataLoader(training_data, batch_size=batch_size, shuffle=True)\n",
    "test_dataloader = DataLoader(test_data, batch_size=batch_size, shuffle=False)\n",
    "\n",
    "for X, y in train_dataloader:\n",
    "    print(f\"Shape of X [N, C, H, W]: {X.shape}\")\n",
    "    print(f\"Shape of y: {y.shape} {y.dtype}\")\n",
    "    break\n",
    "    \n",
    "for X, y in test_dataloader:\n",
    "    print(f\"Shape of X [N, C, H, W]: {X.shape}\")\n",
    "    print(f\"Shape of y: {y.shape} {y.dtype}\")\n",
    "    break    "
   ]
  },
  {
   "cell_type": "code",
   "execution_count": 2,
   "id": "d21586d4-efe3-45f1-b430-44f66003cfad",
   "metadata": {},
   "outputs": [],
   "source": [
    "import torch\n",
    "from torch import nn\n",
    "import torch.nn.functional as F\n",
    "\n",
    "import numpy as np # linear algebra\n",
    "\n",
    "\n",
    "# # Get cpu or gpu device for training.\n",
    "# device = \"cuda\" if torch.cuda.is_available() else \"cpu\"\n",
    "# print(f\"Using {device} device\")\n",
    "\n",
    "# # Define model\n",
    "# class NeuralNetwork(nn.Module):\n",
    "#     def __init__(self):\n",
    "#         super(NeuralNetwork, self).__init__()\n",
    "#         self.flatten = nn.Flatten()\n",
    "#         self.linear_relu_stack = nn.Sequential(\n",
    "#             nn.Linear(224*224*3, 32),\n",
    "#             nn.ReLU(),\n",
    "# #             nn.Linear(512, 512),\n",
    "# #             nn.ReLU(),\n",
    "#             nn.Linear(32, 2)\n",
    "#         )\n",
    "\n",
    "#     def forward(self, x):\n",
    "#         x = self.flatten(x)\n",
    "#         logits = self.linear_relu_stack(x)\n",
    "#         return logits\n",
    "\n",
    "# model = NeuralNetwork().to(device)\n",
    "# print(model)\n",
    "\n",
    "# Define Binary Classifier\n",
    "\n",
    "def findConv2dOutShape(hin,win,conv,pool=2):\n",
    "    # get conv arguments\n",
    "    kernel_size=conv.kernel_size\n",
    "    stride=conv.stride\n",
    "    padding=conv.padding\n",
    "    dilation=conv.dilation\n",
    "\n",
    "    hout=np.floor((hin+2*padding[0]-dilation[0]*(kernel_size[0]-1)-1)/stride[0]+1)\n",
    "    wout=np.floor((win+2*padding[1]-dilation[1]*(kernel_size[1]-1)-1)/stride[1]+1)\n",
    "\n",
    "    if pool:\n",
    "        hout/=pool\n",
    "        wout/=pool\n",
    "    return int(hout),int(wout)\n",
    "\n",
    "\n",
    "# Neural Network\n",
    "class Network(nn.Module):\n",
    "    \n",
    "    # Network Initialisation\n",
    "    def __init__(self, params):\n",
    "        \n",
    "        super(Network, self).__init__()\n",
    "    \n",
    "        Cin,Hin,Win=params[\"shape_in\"]\n",
    "        init_f=params[\"initial_filters\"] \n",
    "        num_fc1=params[\"num_fc1\"]  \n",
    "        num_classes=params[\"num_classes\"] \n",
    "        self.dropout_rate=params[\"dropout_rate\"] \n",
    "        \n",
    "        # Convolution Layers\n",
    "        self.conv1 = nn.Conv2d(Cin, init_f, kernel_size=3)\n",
    "        h,w=findConv2dOutShape(Hin,Win,self.conv1)\n",
    "        self.conv2 = nn.Conv2d(init_f, 2*init_f, kernel_size=3)\n",
    "        h,w=findConv2dOutShape(h,w,self.conv2)\n",
    "        self.conv3 = nn.Conv2d(2*init_f, 4*init_f, kernel_size=3)\n",
    "        h,w=findConv2dOutShape(h,w,self.conv3)\n",
    "        self.conv4 = nn.Conv2d(4*init_f, 8*init_f, kernel_size=3)\n",
    "        h,w=findConv2dOutShape(h,w,self.conv4)\n",
    "        \n",
    "        # compute the flatten size\n",
    "        self.num_flatten=h*w*8*init_f\n",
    "        self.fc1 = nn.Linear(self.num_flatten, num_fc1)\n",
    "        self.fc2 = nn.Linear(num_fc1, num_classes)\n",
    "\n",
    "    def forward(self,X):\n",
    "        \n",
    "        # Convolution & Pool Layers\n",
    "        X = F.relu(self.conv1(X)); \n",
    "        X = F.max_pool2d(X, 2, 2)\n",
    "        X = F.relu(self.conv2(X))\n",
    "        X = F.max_pool2d(X, 2, 2)\n",
    "        X = F.relu(self.conv3(X))\n",
    "        X = F.max_pool2d(X, 2, 2)\n",
    "        X = F.relu(self.conv4(X))\n",
    "        X = F.max_pool2d(X, 2, 2)\n",
    "\n",
    "        X = X.view(-1, self.num_flatten)\n",
    "        \n",
    "        X = F.relu(self.fc1(X))\n",
    "        X=F.dropout(X, self.dropout_rate)\n",
    "        X = self.fc2(X)\n",
    "        return F.log_softmax(X, dim=1)"
   ]
  },
  {
   "cell_type": "code",
   "execution_count": 3,
   "id": "9fe59add-74b5-4831-bd19-771888967fd2",
   "metadata": {},
   "outputs": [],
   "source": [
    "\n",
    "\n",
    "# Neural Network Predefined Parameters\n",
    "params_model={\n",
    "        \"shape_in\": (1,512,512), \n",
    "        \"initial_filters\": 8,    \n",
    "        \"num_fc1\": 100,\n",
    "        \"dropout_rate\": 0.25,\n",
    "        \"num_classes\": 2}\n",
    "\n",
    "# Create instantiation of Network class\n",
    "cnn_model = Network(params_model)\n",
    "\n",
    "# define computation hardware approach (GPU/CPU)\n",
    "device = torch.device('cuda' if torch.cuda.is_available() else 'cpu')\n",
    "model = cnn_model.to(device)"
   ]
  },
  {
   "cell_type": "code",
   "execution_count": 4,
   "id": "a4059118-dcbc-47f7-a294-80276fc4ac56",
   "metadata": {},
   "outputs": [
    {
     "name": "stdout",
     "output_type": "stream",
     "text": [
      "----------------------------------------------------------------\n",
      "        Layer (type)               Output Shape         Param #\n",
      "================================================================\n",
      "            Conv2d-1          [-1, 8, 510, 510]              80\n",
      "            Conv2d-2         [-1, 16, 253, 253]           1,168\n",
      "            Conv2d-3         [-1, 32, 124, 124]           4,640\n",
      "            Conv2d-4           [-1, 64, 60, 60]          18,496\n",
      "            Linear-5                  [-1, 100]       5,760,100\n",
      "            Linear-6                    [-1, 2]             202\n",
      "================================================================\n",
      "Total params: 5,784,686\n",
      "Trainable params: 5,784,686\n",
      "Non-trainable params: 0\n",
      "----------------------------------------------------------------\n",
      "Input size (MB): 1.00\n",
      "Forward/backward pass size (MB): 29.20\n",
      "Params size (MB): 22.07\n",
      "Estimated Total Size (MB): 52.27\n",
      "----------------------------------------------------------------\n"
     ]
    }
   ],
   "source": [
    "from torchsummary import summary\n",
    "summary(cnn_model, input_size=(1, 512, 512),device=device.type)"
   ]
  },
  {
   "cell_type": "code",
   "execution_count": 5,
   "id": "afc36731",
   "metadata": {},
   "outputs": [],
   "source": [
    "loss_func = nn.NLLLoss(reduction=\"sum\")\n",
    "optimizer = torch.optim.Adam(cnn_model.parameters(), lr=3e-4)\n",
    "lr_scheduler = torch.optim.lr_scheduler.ReduceLROnPlateau(optimizer, mode='min',factor=0.5, patience=20,verbose=1)"
   ]
  },
  {
   "cell_type": "code",
   "execution_count": 6,
   "id": "291f3302-b1b0-4ec5-b118-3b407ac854d5",
   "metadata": {},
   "outputs": [],
   "source": [
    "#Training Model\n",
    "\n",
    "''' Helper Functions'''\n",
    "\n",
    "# Function to get the learning rate\n",
    "def get_lr(opt):\n",
    "    for param_group in opt.param_groups:\n",
    "        return param_group['lr']\n",
    "\n",
    "# Function to compute the loss value per batch of data\n",
    "def loss_batch(loss_func, output, target, opt=None):\n",
    "    \n",
    "    loss = loss_func(output, target) # get loss\n",
    "    pred = output.argmax(dim=1, keepdim=True) # Get Output Class\n",
    "    metric_b=pred.eq(target.view_as(pred)).sum().item() # get performance metric\n",
    "    \n",
    "    if opt is not None:\n",
    "        opt.zero_grad()\n",
    "        loss.backward()\n",
    "        opt.step()\n",
    "\n",
    "    return loss.item(), metric_b\n",
    "\n",
    "# Compute the loss value & performance metric for the entire dataset (epoch)\n",
    "def loss_epoch(model,loss_func,dataset_dl,opt=None):\n",
    "    \n",
    "    run_loss=0.0 \n",
    "    t_metric=0.0\n",
    "    len_data=len(dataset_dl.dataset)\n",
    "\n",
    "    # internal loop over dataset\n",
    "    for xb, yb in dataset_dl:\n",
    "        # move batch to device\n",
    "        xb=xb.to(device)\n",
    "        yb=yb.to(device)\n",
    "        output=model(xb) # get model output\n",
    "        loss_b,metric_b=loss_batch(loss_func, output, yb, opt) # get loss per batch\n",
    "        run_loss+=loss_b        # update running loss\n",
    "\n",
    "        if metric_b is not None: # update running metric\n",
    "            t_metric+=metric_b    \n",
    "    \n",
    "    loss=run_loss/float(len_data)  # average loss value\n",
    "    metric=t_metric/float(len_data) # average metric value\n",
    "    \n",
    "    return loss, metric"
   ]
  },
  {
   "cell_type": "code",
   "execution_count": 7,
   "id": "da7136d4-9bb8-4e1c-b803-7c67d1774278",
   "metadata": {},
   "outputs": [],
   "source": [
    "params_train={\n",
    " \"train\": train_dataloader,\"val\": test_dataloader,\n",
    " \"epochs\": 50,\n",
    " \"optimiser\": torch.optim.Adam(cnn_model.parameters(),\n",
    "                         lr=3e-4),\n",
    " \"lr_change\": torch.optim.lr_scheduler.ReduceLROnPlateau(optimizer,\n",
    "                                mode='min',\n",
    "                                factor=0.5,\n",
    "                                patience=20,\n",
    "                                verbose=0),\n",
    " \"f_loss\": nn.NLLLoss(reduction=\"sum\"),\n",
    " \"weight_path\": \"weights.pt\",\n",
    " \"check\": False, \n",
    "}"
   ]
  },
  {
   "cell_type": "code",
   "execution_count": 8,
   "id": "a9678f19-aea7-426a-8796-57e0b116e1c0",
   "metadata": {},
   "outputs": [],
   "source": [
    "import copy\n",
    "\n",
    "#Main training function\n",
    "from tqdm.notebook import trange, tqdm\n",
    "\n",
    "def train_val(model, params,verbose=False):\n",
    "    \n",
    "    # Get the parameters\n",
    "    epochs=params[\"epochs\"]\n",
    "    loss_func=params[\"f_loss\"]\n",
    "    opt=params[\"optimiser\"]\n",
    "    train_dl=params[\"train\"]\n",
    "    val_dl=params[\"val\"]\n",
    "    lr_scheduler=params[\"lr_change\"]\n",
    "    weight_path=params[\"weight_path\"]\n",
    "    \n",
    "    loss_history={\"train\": [],\"val\": []} # history of loss values in each epoch\n",
    "    metric_history={\"train\": [],\"val\": []} # histroy of metric values in each epoch\n",
    "    best_model_wts = copy.deepcopy(model.state_dict()) # a deep copy of weights for the best performing model\n",
    "    best_loss=float('inf') # initialize best loss to a large value\n",
    "    \n",
    "    ''' Train Model n_epochs '''\n",
    "    \n",
    "    for epoch in tqdm(range(epochs)):\n",
    "        \n",
    "        ''' Get the Learning Rate '''\n",
    "        current_lr=get_lr(opt)\n",
    "        if(verbose):\n",
    "            print('Epoch {}/{}, current lr={}'.format(epoch, epochs - 1, current_lr))\n",
    "        \n",
    "        '''\n",
    "        \n",
    "        Train Model Process\n",
    "        \n",
    "        '''\n",
    "        \n",
    "        model.train()\n",
    "        train_loss, train_metric = loss_epoch(model,loss_func,train_dl,opt)\n",
    "\n",
    "        # collect losses\n",
    "        loss_history[\"train\"].append(train_loss)\n",
    "        metric_history[\"train\"].append(train_metric)\n",
    "        \n",
    "        '''\n",
    "        \n",
    "        Evaluate Model Process\n",
    "        \n",
    "        '''\n",
    "        \n",
    "        model.eval()\n",
    "        with torch.no_grad():\n",
    "            val_loss, val_metric = loss_epoch(model,loss_func,val_dl)\n",
    "        \n",
    "        # store best model\n",
    "        if(val_loss < best_loss):\n",
    "            best_loss = val_loss\n",
    "            best_model_wts = copy.deepcopy(model.state_dict())\n",
    "            \n",
    "            # store weights into a local file\n",
    "            torch.save(model.state_dict(), weight_path)\n",
    "            if(verbose):\n",
    "                print(\"Copied best model weights!\")\n",
    "        \n",
    "        # collect loss and metric for validation dataset\n",
    "        loss_history[\"val\"].append(val_loss)\n",
    "        metric_history[\"val\"].append(val_metric)\n",
    "        \n",
    "        # learning rate schedule\n",
    "        lr_scheduler.step(val_loss)\n",
    "        if current_lr != get_lr(opt):\n",
    "            if(verbose):\n",
    "                print(\"Loading best model weights!\")\n",
    "            model.load_state_dict(best_model_wts) \n",
    "\n",
    "        if(verbose):\n",
    "            print(f\"train loss: {train_loss:.6f}, dev loss: {val_loss:.6f}, accuracy: {100*val_metric:.2f}\")\n",
    "            print(\"-\"*10) \n",
    "\n",
    "    # load best model weights\n",
    "    model.load_state_dict(best_model_wts)\n",
    "        \n",
    "    return model, loss_history, metric_history"
   ]
  },
  {
   "cell_type": "code",
   "execution_count": 9,
   "id": "4d8571c6-95bb-4081-9c2b-fb4163af5771",
   "metadata": {},
   "outputs": [
    {
     "data": {
      "application/vnd.jupyter.widget-view+json": {
       "model_id": "1cdb90de6c9e4c15bf4015b11c72313b",
       "version_major": 2,
       "version_minor": 0
      },
      "text/plain": [
       "  0%|          | 0/50 [00:00<?, ?it/s]"
      ]
     },
     "metadata": {},
     "output_type": "display_data"
    }
   ],
   "source": [
    "# Training Process\n",
    "\n",
    "params_train={\n",
    " \"train\": train_dataloader,\"val\": test_dataloader,\n",
    " \"epochs\": 50,\n",
    " \"optimiser\": torch.optim.Adam(cnn_model.parameters(),lr=3e-4),\n",
    " \"lr_change\": torch.optim.lr_scheduler.ReduceLROnPlateau(optimizer,\n",
    "                                mode='min',\n",
    "                                factor=0.5,\n",
    "                                patience=20,\n",
    "                                verbose=0),\n",
    " \"f_loss\": nn.NLLLoss(reduction=\"sum\"),\n",
    " \"weight_path\": \"weights.pt\",\n",
    "}\n",
    "\n",
    "''' Actual Train / Evaluation of CNN Model '''\n",
    "# train and validate the model\n",
    "\n",
    "cnn_model,loss_hist,metric_hist=train_val(cnn_model,params_train)"
   ]
  },
  {
   "cell_type": "code",
   "execution_count": 10,
   "id": "6dba3819-e7df-4524-8118-ef1e667b88a1",
   "metadata": {},
   "outputs": [
    {
     "data": {
      "text/plain": [
       "Text(0.5, 1.0, 'Convergence History')"
      ]
     },
     "execution_count": 10,
     "metadata": {},
     "output_type": "execute_result"
    },
    {
     "data": {
      "image/png": "[encoded data removed]",
      "text/plain": [
       "<Figure size 1200x500 with 2 Axes>"
      ]
     },
     "metadata": {},
     "output_type": "display_data"
    }
   ],
   "source": [
    "import seaborn as sns; sns.set(style='whitegrid')\n",
    "import matplotlib.pyplot as plt\n",
    "\n",
    "epochs=params_train[\"epochs\"]\n",
    "\n",
    "fig,ax = plt.subplots(1,2,figsize=(12,5))\n",
    "\n",
    "sns.lineplot(x=[*range(1,epochs+1)],y=loss_hist[\"train\"],ax=ax[0],label='loss_hist[\"train\"]')\n",
    "sns.lineplot(x=[*range(1,epochs+1)],y=loss_hist[\"val\"],ax=ax[0],label='loss_hist[\"val\"]')\n",
    "sns.lineplot(x=[*range(1,epochs+1)],y=metric_hist[\"train\"],ax=ax[1],label='metric_hist[\"train\"]')\n",
    "sns.lineplot(x=[*range(1,epochs+1)],y=metric_hist[\"val\"],ax=ax[1],label='metric_hist[\"val\"]')\n",
    "plt.title('Convergence History')"
   ]
  },
  {
   "cell_type": "code",
   "execution_count": 11,
   "id": "3c767025-bc73-4e69-ba0a-b5c965746274",
   "metadata": {},
   "outputs": [],
   "source": [
    "# PREDICTION \n",
    "\n",
    "def inference(model,dataset,device,num_classes=2):\n",
    "    \n",
    "    len_data=len(dataset)\n",
    "    y_out=torch.zeros(len_data,num_classes) # initialize output tensor on CPU\n",
    "    y_gt=np.zeros((len_data),dtype=\"uint8\") # initialize ground truth on CPU\n",
    "    model=model.to(device) # move model to device\n",
    "    \n",
    "    with torch.no_grad():\n",
    "        for i in tqdm(range(len_data)):\n",
    "            x,y=dataset[i]\n",
    "            y_gt[i]=y\n",
    "            y_out[i]=model(x.unsqueeze(0).to(device))\n",
    "\n",
    "    return y_out.numpy(),y_gt"
   ]
  },
  {
   "cell_type": "code",
   "execution_count": 12,
   "id": "052964a3-8f70-4b30-ba58-777bb7ab1fd1",
   "metadata": {},
   "outputs": [
    {
     "data": {
      "application/vnd.jupyter.widget-view+json": {
       "model_id": "aa30d07daaeb44388967e6cdc43808d5",
       "version_major": 2,
       "version_minor": 0
      },
      "text/plain": [
       "  0%|          | 0/7 [00:00<?, ?it/s]"
      ]
     },
     "metadata": {},
     "output_type": "display_data"
    }
   ],
   "source": [
    "y_test_out,_ = inference(cnn_model,test_data, device)   "
   ]
  },
  {
   "cell_type": "code",
   "execution_count": 13,
   "id": "643694c8-39c7-47f0-ba30-8c1bac217d2a",
   "metadata": {},
   "outputs": [
    {
     "name": "stdout",
     "output_type": "stream",
     "text": [
      "(7,)\n",
      "[0 0 0 0 0]\n"
     ]
    }
   ],
   "source": [
    "# class predictions 0,1\n",
    "y_test_pred=np.argmax(y_test_out,axis=1)\n",
    "print(y_test_pred.shape)\n",
    "print(y_test_pred[0:5])"
   ]
  },
  {
   "cell_type": "code",
   "execution_count": 17,
   "id": "1106a7eb-0cbb-4070-b122-28ffbcb51b0f",
   "metadata": {},
   "outputs": [
    {
     "name": "stdout",
     "output_type": "stream",
     "text": [
      "(7,)\n",
      "[0.69818085 0.585194   0.5584224  0.46249753 0.53045624]\n"
     ]
    }
   ],
   "source": [
    "# probabilities of predicted selection\n",
    "# return F.log_softmax(x, dim=1) ie.\n",
    "preds = np.exp(y_test_out[:, 1])\n",
    "print(preds.shape)\n",
    "print(preds[0:5])"
   ]
  }
 ],
 "metadata": {
  "kernelspec": {
   "display_name": "Python 3 (ipykernel)",
   "language": "python",
   "name": "python3"
  },
  "language_info": {
   "codemirror_mode": {
    "name": "ipython",
    "version": 3
   },
   "file_extension": ".py",
   "mimetype": "text/x-python",
   "name": "python",
   "nbconvert_exporter": "python",
   "pygments_lexer": "ipython3",
   "version": "3.9.19"
  }
 },
 "nbformat": 4,
 "nbformat_minor": 5
}
